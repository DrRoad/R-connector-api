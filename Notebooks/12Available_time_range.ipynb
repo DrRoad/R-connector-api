{
 "cells": [
  {
   "cell_type": "markdown",
   "metadata": {},
   "source": [
    "# Available time range of a model"
   ]
  },
  {
   "cell_type": "markdown",
   "metadata": {},
   "source": [
    "Import R file."
   ]
  },
  {
   "cell_type": "code",
   "execution_count": 1,
   "metadata": {},
   "outputs": [
    {
     "name": "stderr",
     "output_type": "stream",
     "text": [
      "\n",
      "Attaching package: 'lubridate'\n",
      "\n",
      "The following objects are masked from 'package:data.table':\n",
      "\n",
      "    hour, isoweek, mday, minute, month, quarter, second, wday, week,\n",
      "    yday, year\n",
      "\n",
      "The following object is masked from 'package:base':\n",
      "\n",
      "    date\n",
      "\n",
      "Registered S3 methods overwritten by 'ggplot2':\n",
      "  method         from \n",
      "  [.quosures     rlang\n",
      "  c.quosures     rlang\n",
      "  print.quosures rlang\n"
     ]
    }
   ],
   "source": [
    "source('../R_query_api.R')"
   ]
  },
  {
   "cell_type": "markdown",
   "metadata": {},
   "source": [
    "Input your username and password from your meteomatics account."
   ]
  },
  {
   "cell_type": "code",
   "execution_count": 2,
   "metadata": {},
   "outputs": [],
   "source": [
    "username <- \"r-community\"\n",
    "password <- \"Utotugode673\""
   ]
  },
  {
   "cell_type": "markdown",
   "metadata": {},
   "source": [
    "Enter model and paramters. Example:"
   ]
  },
  {
   "cell_type": "code",
   "execution_count": 3,
   "metadata": {},
   "outputs": [],
   "source": [
    "model <- \"ecmwf-ifs\"\n",
    "paramters <- \"t_2m:C\""
   ]
  },
  {
   "cell_type": "markdown",
   "metadata": {},
   "source": [
    "The following function will return a dataframe with the avaiable time range for each parameter."
   ]
  },
  {
   "cell_type": "code",
   "execution_count": 4,
   "metadata": {},
   "outputs": [
    {
     "data": {
      "text/html": [
       "<table>\n",
       "<thead><tr><th scope=col>Request.with.model.ecmwf.ifs.is.not.granted.with.this.subscription.type..e.g..trial...Access.for.this.account.type.is.limited.to.model..mix...Please.contact.sales.meteomatics.com.for.an.extended.trial.or.an.upgrade.of.your.account.</th></tr></thead>\n",
       "<tbody>\n",
       "</tbody>\n",
       "</table>\n"
      ],
      "text/latex": [
       "\\begin{tabular}{r|l}\n",
       " Request.with.model.ecmwf.ifs.is.not.granted.with.this.subscription.type..e.g..trial...Access.for.this.account.type.is.limited.to.model..mix...Please.contact.sales.meteomatics.com.for.an.extended.trial.or.an.upgrade.of.your.account.\\\\\n",
       "\\hline\n",
       "\\end{tabular}\n"
      ],
      "text/markdown": [
       "\n",
       "| Request.with.model.ecmwf.ifs.is.not.granted.with.this.subscription.type..e.g..trial...Access.for.this.account.type.is.limited.to.model..mix...Please.contact.sales.meteomatics.com.for.an.extended.trial.or.an.upgrade.of.your.account. |\n",
       "|---|\n",
       "\n"
      ],
      "text/plain": [
       "     Request.with.model.ecmwf.ifs.is.not.granted.with.this.subscription.type..e.g..trial...Access.for.this.account.type.is.limited.to.model..mix...Please.contact.sales.meteomatics.com.for.an.extended.trial.or.an.upgrade.of.your.account."
      ]
     },
     "metadata": {},
     "output_type": "display_data"
    }
   ],
   "source": [
    "available_time_range(model,parameters)"
   ]
  }
 ],
 "metadata": {
  "kernelspec": {
   "display_name": "R",
   "language": "R",
   "name": "ir"
  },
  "language_info": {
   "codemirror_mode": "r",
   "file_extension": ".r",
   "mimetype": "text/x-r-source",
   "name": "R",
   "pygments_lexer": "r",
   "version": "3.6.0"
  }
 },
 "nbformat": 4,
 "nbformat_minor": 2
}
