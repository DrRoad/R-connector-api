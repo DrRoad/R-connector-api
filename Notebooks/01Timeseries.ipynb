{
 "cells": [
  {
   "cell_type": "markdown",
   "metadata": {},
   "source": [
    "# Timeseries"
   ]
  },
  {
   "cell_type": "markdown",
   "metadata": {},
   "source": [
    "Import R file."
   ]
  },
  {
   "cell_type": "code",
   "execution_count": 20,
   "metadata": {},
   "outputs": [],
   "source": [
    "source('R_query_api.R')"
   ]
  },
  {
   "cell_type": "markdown",
   "metadata": {},
   "source": [
    "Input your username and password from your meteomatics account."
   ]
  },
  {
   "cell_type": "code",
   "execution_count": 21,
   "metadata": {},
   "outputs": [],
   "source": [
    "username = \"r-community\"\n",
    "password = \"Utotugode673\""
   ]
  },
  {
   "cell_type": "markdown",
   "metadata": {},
   "source": [
    "Input startdate, enddate and time interval. Example:"
   ]
  },
  {
   "cell_type": "code",
   "execution_count": 22,
   "metadata": {},
   "outputs": [],
   "source": [
    "time_zone = \"Europe/Berlin\"\n",
    "startdate = ISOdatetime(year = as.integer(strftime(today(),'%Y')), \n",
    "                        month = as.integer(strftime(today(),'%m')), \n",
    "                        day = as.integer(strftime(today(),'%d')), \n",
    "                        hour = 00, min = 00, sec = 00, tz = \"UTC\")\n",
    "enddate = ISOdatetime(year = as.integer(strftime(today(),'%Y')), \n",
    "                      month = as.integer(strftime(today(),'%m')), \n",
    "                      day = as.integer(strftime(today(),'%d'))+1, \n",
    "                      hour = 00, min = 00, sec = 00, tz = \"UTC\")\n",
    "interval = \"PT1H\""
   ]
  },
  {
   "cell_type": "markdown",
   "metadata": {},
   "source": [
    "Set parameters and location. "
   ]
  },
  {
   "cell_type": "code",
   "execution_count": 23,
   "metadata": {},
   "outputs": [],
   "source": [
    "parameters = \"t_2m:C,relative_humidity_1000hPa:p\"\n",
    "coordinate = \"47.11,11.47\""
   ]
  },
  {
   "cell_type": "markdown",
   "metadata": {},
   "source": [
    "There is the option to save the plots as .png files in an arbitrary directory."
   ]
  },
  {
   "cell_type": "code",
   "execution_count": 25,
   "metadata": {},
   "outputs": [
    {
     "data": {
      "image/png": "[encoded data removed]",
      "text/plain": [
       "plot without title"
      ]
     },
     "metadata": {},
     "output_type": "display_data"
    }
   ],
   "source": [
    "ts_output <- timeseries(startdate, enddate, interval, parameters, coordinate, plot=TRUE)"
   ]
  },
  {
   "cell_type": "code",
   "execution_count": 26,
   "metadata": {},
   "outputs": [
    {
     "data": {
      "text/html": [
       "<table>\n",
       "<thead><tr><th scope=col>validdate</th><th scope=col>t_2m.C</th><th scope=col>relative_humidity_1000hPa.p</th></tr></thead>\n",
       "<tbody>\n",
       "\t<tr><td>2019-08-20 02:00:00</td><td>14.8               </td><td>86.9               </td></tr>\n",
       "\t<tr><td>2019-08-20 03:00:00</td><td>13.7               </td><td>91.5               </td></tr>\n",
       "\t<tr><td>2019-08-20 04:00:00</td><td>13.3               </td><td>91.2               </td></tr>\n",
       "\t<tr><td>2019-08-20 05:00:00</td><td>13.6               </td><td>88.0               </td></tr>\n",
       "\t<tr><td>2019-08-20 06:00:00</td><td>13.0               </td><td>87.6               </td></tr>\n",
       "\t<tr><td>2019-08-20 07:00:00</td><td>12.2               </td><td>91.9               </td></tr>\n",
       "</tbody>\n",
       "</table>\n"
      ],
      "text/latex": [
       "\\begin{tabular}{r|lll}\n",
       " validdate & t\\_2m.C & relative\\_humidity\\_1000hPa.p\\\\\n",
       "\\hline\n",
       "\t 2019-08-20 02:00:00 & 14.8                & 86.9               \\\\\n",
       "\t 2019-08-20 03:00:00 & 13.7                & 91.5               \\\\\n",
       "\t 2019-08-20 04:00:00 & 13.3                & 91.2               \\\\\n",
       "\t 2019-08-20 05:00:00 & 13.6                & 88.0               \\\\\n",
       "\t 2019-08-20 06:00:00 & 13.0                & 87.6               \\\\\n",
       "\t 2019-08-20 07:00:00 & 12.2                & 91.9               \\\\\n",
       "\\end{tabular}\n"
      ],
      "text/markdown": [
       "\n",
       "| validdate | t_2m.C | relative_humidity_1000hPa.p |\n",
       "|---|---|---|\n",
       "| 2019-08-20 02:00:00 | 14.8                | 86.9                |\n",
       "| 2019-08-20 03:00:00 | 13.7                | 91.5                |\n",
       "| 2019-08-20 04:00:00 | 13.3                | 91.2                |\n",
       "| 2019-08-20 05:00:00 | 13.6                | 88.0                |\n",
       "| 2019-08-20 06:00:00 | 13.0                | 87.6                |\n",
       "| 2019-08-20 07:00:00 | 12.2                | 91.9                |\n",
       "\n"
      ],
      "text/plain": [
       "  validdate           t_2m.C relative_humidity_1000hPa.p\n",
       "1 2019-08-20 02:00:00 14.8   86.9                       \n",
       "2 2019-08-20 03:00:00 13.7   91.5                       \n",
       "3 2019-08-20 04:00:00 13.3   91.2                       \n",
       "4 2019-08-20 05:00:00 13.6   88.0                       \n",
       "5 2019-08-20 06:00:00 13.0   87.6                       \n",
       "6 2019-08-20 07:00:00 12.2   91.9                       "
      ]
     },
     "metadata": {},
     "output_type": "display_data"
    }
   ],
   "source": [
    "head(ts_output)"
   ]
  },
  {
   "cell_type": "markdown",
   "metadata": {},
   "source": [
    "For detailed information on the input parameters, see https://www.meteomatics.com/en/api/request/."
   ]
  },
  {
   "cell_type": "code",
   "execution_count": null,
   "metadata": {},
   "outputs": [],
   "source": []
  }
 ],
 "metadata": {
  "kernelspec": {
   "display_name": "R",
   "language": "R",
   "name": "ir"
  },
  "language_info": {
   "codemirror_mode": "r",
   "file_extension": ".r",
   "mimetype": "text/x-r-source",
   "name": "R",
   "pygments_lexer": "r",
   "version": "3.6.0"
  }
 },
 "nbformat": 4,
 "nbformat_minor": 2
}
