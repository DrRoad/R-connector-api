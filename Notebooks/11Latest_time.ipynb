{
 "cells": [
  {
   "cell_type": "markdown",
   "metadata": {},
   "source": [
    "# Get init dates"
   ]
  },
  {
   "cell_type": "markdown",
   "metadata": {},
   "source": [
    "This function returns the model run information for certain parameters of a model."
   ]
  },
  {
   "cell_type": "markdown",
   "metadata": {},
   "source": [
    "Import R file."
   ]
  },
  {
   "cell_type": "code",
   "execution_count": 2,
   "metadata": {},
   "outputs": [],
   "source": [
    "source('R_query_api.R')"
   ]
  },
  {
   "cell_type": "markdown",
   "metadata": {},
   "source": [
    "Input your username and password from your meteomatics account."
   ]
  },
  {
   "cell_type": "code",
   "execution_count": 3,
   "metadata": {},
   "outputs": [],
   "source": [
    "username <- \"r-community\"\n",
    "password <- \"Utotugode673\""
   ]
  },
  {
   "cell_type": "markdown",
   "metadata": {},
   "source": [
    "Enter model, date and paramters. Example:"
   ]
  },
  {
   "cell_type": "code",
   "execution_count": 4,
   "metadata": {},
   "outputs": [],
   "source": [
    "parameters <- \"t_2m:C,relative_humidity_2m:p\" \n",
    "date <- \"2019-08-13T19:00:00ZP1D:PT6H\"\n",
    "model <- \"ecmwf-ifs\""
   ]
  },
  {
   "cell_type": "markdown",
   "metadata": {},
   "source": [
    "The following will return a dataframe with the times each parameter was updated."
   ]
  },
  {
   "cell_type": "code",
   "execution_count": 5,
   "metadata": {},
   "outputs": [
    {
     "data": {
      "text/html": [
       "<table>\n",
       "<thead><tr><th scope=col>Request.with.model.ecmwf.ifs.is.not.granted.with.this.subscription.type..e.g..trial...Access.for.this.account.type.is.limited.to.model..mix...Please.contact.sales.meteomatics.com.for.an.extended.trial.or.an.upgrade.of.your.account.</th></tr></thead>\n",
       "<tbody>\n",
       "</tbody>\n",
       "</table>\n"
      ],
      "text/latex": [
       "\\begin{tabular}{r|l}\n",
       " Request.with.model.ecmwf.ifs.is.not.granted.with.this.subscription.type..e.g..trial...Access.for.this.account.type.is.limited.to.model..mix...Please.contact.sales.meteomatics.com.for.an.extended.trial.or.an.upgrade.of.your.account.\\\\\n",
       "\\hline\n",
       "\\end{tabular}\n"
      ],
      "text/markdown": [
       "\n",
       "| Request.with.model.ecmwf.ifs.is.not.granted.with.this.subscription.type..e.g..trial...Access.for.this.account.type.is.limited.to.model..mix...Please.contact.sales.meteomatics.com.for.an.extended.trial.or.an.upgrade.of.your.account. |\n",
       "|---|\n",
       "\n"
      ],
      "text/plain": [
       "     Request.with.model.ecmwf.ifs.is.not.granted.with.this.subscription.type..e.g..trial...Access.for.this.account.type.is.limited.to.model..mix...Please.contact.sales.meteomatics.com.for.an.extended.trial.or.an.upgrade.of.your.account."
      ]
     },
     "metadata": {},
     "output_type": "display_data"
    }
   ],
   "source": [
    "init_dates(model,date,parameters)"
   ]
  }
 ],
 "metadata": {
  "kernelspec": {
   "display_name": "R",
   "language": "R",
   "name": "ir"
  },
  "language_info": {
   "codemirror_mode": "r",
   "file_extension": ".r",
   "mimetype": "text/x-r-source",
   "name": "R",
   "pygments_lexer": "r",
   "version": "3.6.0"
  }
 },
 "nbformat": 4,
 "nbformat_minor": 2
}
