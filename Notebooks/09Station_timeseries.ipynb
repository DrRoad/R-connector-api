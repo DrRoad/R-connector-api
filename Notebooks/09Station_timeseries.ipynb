{
 "cells": [
  {
   "cell_type": "markdown",
   "metadata": {},
   "source": [
    "# Station Coordinates Timeseries"
   ]
  },
  {
   "cell_type": "markdown",
   "metadata": {},
   "source": [
    "Import R file."
   ]
  },
  {
   "cell_type": "code",
   "execution_count": 1,
   "metadata": {},
   "outputs": [
    {
     "name": "stderr",
     "output_type": "stream",
     "text": [
      "\n",
      "Attaching package: 'lubridate'\n",
      "\n",
      "The following objects are masked from 'package:data.table':\n",
      "\n",
      "    hour, isoweek, mday, minute, month, quarter, second, wday, week,\n",
      "    yday, year\n",
      "\n",
      "The following object is masked from 'package:base':\n",
      "\n",
      "    date\n",
      "\n",
      "Registered S3 methods overwritten by 'ggplot2':\n",
      "  method         from \n",
      "  [.quosures     rlang\n",
      "  c.quosures     rlang\n",
      "  print.quosures rlang\n"
     ]
    }
   ],
   "source": [
    "source('../R_query_api.R')"
   ]
  },
  {
   "cell_type": "markdown",
   "metadata": {},
   "source": [
    "Input your username and password from your meteomatics account."
   ]
  },
  {
   "cell_type": "code",
   "execution_count": 5,
   "metadata": {},
   "outputs": [],
   "source": [
    "username <- \"r-community\"\n",
    "password <- \"Utotugode673\""
   ]
  },
  {
   "cell_type": "markdown",
   "metadata": {},
   "source": [
    "Enter startdate, enddate, interval, parameters and coordinates. Example:"
   ]
  },
  {
   "cell_type": "code",
   "execution_count": 6,
   "metadata": {},
   "outputs": [],
   "source": [
    "startdate = ISOdatetime(year = as.integer(strftime(today(),'%Y')), \n",
    "                        month = as.integer(strftime(today(),'%m')), \n",
    "                        day = as.integer(strftime(today(),'%d'))-1, \n",
    "                        hour = 00, min = 00, sec = 00, tz = \"UTC\")\n",
    "enddate = ISOdatetime(year = as.integer(strftime(today(),'%Y')), \n",
    "                      month = as.integer(strftime(today(),'%m')), \n",
    "                      day = as.integer(strftime(today(),'%d')), \n",
    "                      hour = 00, min = 00, sec = 00, tz = \"UTC\")\n",
    "interval =  \"PT4H\"\n",
    "parameters = \"t_2m:C,relative_humidity_2m:p\"\n",
    "coordinate = \"47.43,9.4\"\n"
   ]
  },
  {
   "cell_type": "code",
   "execution_count": 7,
   "metadata": {},
   "outputs": [
    {
     "data": {
      "text/html": [
       "<table>\n",
       "<thead><tr><th scope=col>valid date</th><th scope=col>t_2m:C</th><th scope=col>relative_humidity_2m:p</th></tr></thead>\n",
       "<tbody>\n",
       "\t<tr><td>2019-08-20T04:00:00Z</td><td>14.2                </td><td>98.1                </td></tr>\n",
       "\t<tr><td>2019-08-20T08:00:00Z</td><td>13.9                </td><td>96.8                </td></tr>\n",
       "\t<tr><td>2019-08-20T12:00:00Z</td><td>14.3                </td><td>97.5                </td></tr>\n",
       "\t<tr><td>2019-08-20T16:00:00Z</td><td>12.0                </td><td>96.1                </td></tr>\n",
       "\t<tr><td>2019-08-20T20:00:00Z</td><td>11.3                </td><td>96.8                </td></tr>\n",
       "\t<tr><td>2019-08-21T00:00:00Z</td><td>10.7                </td><td>95.5                </td></tr>\n",
       "</tbody>\n",
       "</table>\n"
      ],
      "text/latex": [
       "\\begin{tabular}{r|lll}\n",
       " valid date & t\\_2m:C & relative\\_humidity\\_2m:p\\\\\n",
       "\\hline\n",
       "\t 2019-08-20T04:00:00Z & 14.2                 & 98.1                \\\\\n",
       "\t 2019-08-20T08:00:00Z & 13.9                 & 96.8                \\\\\n",
       "\t 2019-08-20T12:00:00Z & 14.3                 & 97.5                \\\\\n",
       "\t 2019-08-20T16:00:00Z & 12.0                 & 96.1                \\\\\n",
       "\t 2019-08-20T20:00:00Z & 11.3                 & 96.8                \\\\\n",
       "\t 2019-08-21T00:00:00Z & 10.7                 & 95.5                \\\\\n",
       "\\end{tabular}\n"
      ],
      "text/markdown": [
       "\n",
       "| valid date | t_2m:C | relative_humidity_2m:p |\n",
       "|---|---|---|\n",
       "| 2019-08-20T04:00:00Z | 14.2                 | 98.1                 |\n",
       "| 2019-08-20T08:00:00Z | 13.9                 | 96.8                 |\n",
       "| 2019-08-20T12:00:00Z | 14.3                 | 97.5                 |\n",
       "| 2019-08-20T16:00:00Z | 12.0                 | 96.1                 |\n",
       "| 2019-08-20T20:00:00Z | 11.3                 | 96.8                 |\n",
       "| 2019-08-21T00:00:00Z | 10.7                 | 95.5                 |\n",
       "\n"
      ],
      "text/plain": [
       "  valid date           t_2m:C relative_humidity_2m:p\n",
       "1 2019-08-20T04:00:00Z 14.2   98.1                  \n",
       "2 2019-08-20T08:00:00Z 13.9   96.8                  \n",
       "3 2019-08-20T12:00:00Z 14.3   97.5                  \n",
       "4 2019-08-20T16:00:00Z 12.0   96.1                  \n",
       "5 2019-08-20T20:00:00Z 11.3   96.8                  \n",
       "6 2019-08-21T00:00:00Z 10.7   95.5                  "
      ]
     },
     "metadata": {},
     "output_type": "display_data"
    }
   ],
   "source": [
    "station_timeseries(startdate, enddate, interval, parameters, coordinate)"
   ]
  },
  {
   "cell_type": "markdown",
   "metadata": {},
   "source": [
    "For detailed information on the input parameters, see https://www.meteomatics.com/en/api/request/."
   ]
  }
 ],
 "metadata": {
  "kernelspec": {
   "display_name": "R",
   "language": "R",
   "name": "ir"
  },
  "language_info": {
   "codemirror_mode": "r",
   "file_extension": ".r",
   "mimetype": "text/x-r-source",
   "name": "R",
   "pygments_lexer": "r",
   "version": "3.6.0"
  }
 },
 "nbformat": 4,
 "nbformat_minor": 2
}
