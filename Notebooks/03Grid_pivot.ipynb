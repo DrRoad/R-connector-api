{
 "cells": [
  {
   "cell_type": "markdown",
   "metadata": {},
   "source": [
    "# Pivot Grid"
   ]
  },
  {
   "cell_type": "markdown",
   "metadata": {},
   "source": [
    "Import R file."
   ]
  },
  {
   "cell_type": "code",
   "execution_count": 1,
   "metadata": {},
   "outputs": [
    {
     "name": "stderr",
     "output_type": "stream",
     "text": [
      "\n",
      "Attaching package: 'lubridate'\n",
      "\n",
      "The following objects are masked from 'package:data.table':\n",
      "\n",
      "    hour, isoweek, mday, minute, month, quarter, second, wday, week,\n",
      "    yday, year\n",
      "\n",
      "The following object is masked from 'package:base':\n",
      "\n",
      "    date\n",
      "\n",
      "Registered S3 methods overwritten by 'ggplot2':\n",
      "  method         from \n",
      "  [.quosures     rlang\n",
      "  c.quosures     rlang\n",
      "  print.quosures rlang\n"
     ]
    }
   ],
   "source": [
    "source('R_query_api.R')"
   ]
  },
  {
   "cell_type": "markdown",
   "metadata": {},
   "source": [
    "Input your username and password from your meteomatics account."
   ]
  },
  {
   "cell_type": "code",
   "execution_count": 2,
   "metadata": {},
   "outputs": [],
   "source": [
    "username <- \"r-community\"\n",
    "password <- \"Utotugode673\""
   ]
  },
  {
   "cell_type": "markdown",
   "metadata": {},
   "source": [
    "Input a date. Example:"
   ]
  },
  {
   "cell_type": "code",
   "execution_count": 3,
   "metadata": {},
   "outputs": [],
   "source": [
    "time_zone <- \"Europe/Berlin\"\n",
    "\n",
    "startdate <- ISOdatetime(year = as.integer(strftime(today(),'%Y')), \n",
    "                        month = as.integer(strftime(today(),'%m')), \n",
    "                        day = as.integer(strftime(today(),'%d')), \n",
    "                        hour = 00, min = 00, sec = 00, tz = \"UTC\")"
   ]
  },
  {
   "cell_type": "markdown",
   "metadata": {},
   "source": [
    "Set the parameter and the coordinate."
   ]
  },
  {
   "cell_type": "code",
   "execution_count": 4,
   "metadata": {},
   "outputs": [],
   "source": [
    "parameter <- \"t_2m:C\"\n",
    "coordinate <- \"48.5,5.5_45.5,11.5:800x600\""
   ]
  },
  {
   "cell_type": "markdown",
   "metadata": {},
   "source": [
    "There is the option to save the plots as .png files in an arbitrary working directory."
   ]
  },
  {
   "cell_type": "code",
   "execution_count": 5,
   "metadata": {},
   "outputs": [],
   "source": [
    "pivot_grid <- grid_pivot(startdate, parameter, coordinate)"
   ]
  },
  {
   "cell_type": "code",
   "execution_count": 6,
   "metadata": {},
   "outputs": [
    {
     "data": {
      "text/html": [
       "<table>\n",
       "<thead><tr><th></th><th scope=col>5.5</th><th scope=col>5.50751</th><th scope=col>5.51502</th><th scope=col>5.52253</th><th scope=col>5.53004</th></tr></thead>\n",
       "<tbody>\n",
       "\t<tr><th scope=row>45.5</th><td>19.3</td><td>19.0</td><td>18.8</td><td>18.7</td><td>18.6</td></tr>\n",
       "\t<tr><th scope=row>45.505</th><td>19.5</td><td>19.4</td><td>19.4</td><td>19.1</td><td>18.8</td></tr>\n",
       "\t<tr><th scope=row>45.51</th><td>19.5</td><td>19.5</td><td>19.5</td><td>19.4</td><td>19.2</td></tr>\n",
       "\t<tr><th scope=row>45.515</th><td>19.2</td><td>19.4</td><td>19.5</td><td>19.5</td><td>19.4</td></tr>\n",
       "\t<tr><th scope=row>45.52</th><td>18.9</td><td>19.2</td><td>19.4</td><td>19.5</td><td>19.5</td></tr>\n",
       "</tbody>\n",
       "</table>\n"
      ],
      "text/latex": [
       "\\begin{tabular}{r|lllll}\n",
       "  & 5.5 & 5.50751 & 5.51502 & 5.52253 & 5.53004\\\\\n",
       "\\hline\n",
       "\t45.5 & 19.3 & 19.0 & 18.8 & 18.7 & 18.6\\\\\n",
       "\t45.505 & 19.5 & 19.4 & 19.4 & 19.1 & 18.8\\\\\n",
       "\t45.51 & 19.5 & 19.5 & 19.5 & 19.4 & 19.2\\\\\n",
       "\t45.515 & 19.2 & 19.4 & 19.5 & 19.5 & 19.4\\\\\n",
       "\t45.52 & 18.9 & 19.2 & 19.4 & 19.5 & 19.5\\\\\n",
       "\\end{tabular}\n"
      ],
      "text/markdown": [
       "\n",
       "| <!--/--> | 5.5 | 5.50751 | 5.51502 | 5.52253 | 5.53004 |\n",
       "|---|---|---|---|---|---|\n",
       "| 45.5 | 19.3 | 19.0 | 18.8 | 18.7 | 18.6 |\n",
       "| 45.505 | 19.5 | 19.4 | 19.4 | 19.1 | 18.8 |\n",
       "| 45.51 | 19.5 | 19.5 | 19.5 | 19.4 | 19.2 |\n",
       "| 45.515 | 19.2 | 19.4 | 19.5 | 19.5 | 19.4 |\n",
       "| 45.52 | 18.9 | 19.2 | 19.4 | 19.5 | 19.5 |\n",
       "\n"
      ],
      "text/plain": [
       "       5.5  5.50751 5.51502 5.52253 5.53004\n",
       "45.5   19.3 19.0    18.8    18.7    18.6   \n",
       "45.505 19.5 19.4    19.4    19.1    18.8   \n",
       "45.51  19.5 19.5    19.5    19.4    19.2   \n",
       "45.515 19.2 19.4    19.5    19.5    19.4   \n",
       "45.52  18.9 19.2    19.4    19.5    19.5   "
      ]
     },
     "metadata": {},
     "output_type": "display_data"
    }
   ],
   "source": [
    "pivot_grid[1:5,1:5]"
   ]
  },
  {
   "cell_type": "markdown",
   "metadata": {},
   "source": [
    "For detailed information on the input parameters, see https://www.meteomatics.com/en/api/request/."
   ]
  }
 ],
 "metadata": {
  "kernelspec": {
   "display_name": "R",
   "language": "R",
   "name": "ir"
  },
  "language_info": {
   "codemirror_mode": "r",
   "file_extension": ".r",
   "mimetype": "text/x-r-source",
   "name": "R",
   "pygments_lexer": "r",
   "version": "3.6.0"
  }
 },
 "nbformat": 4,
 "nbformat_minor": 2
}
