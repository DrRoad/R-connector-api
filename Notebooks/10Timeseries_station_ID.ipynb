{
 "cells": [
  {
   "cell_type": "markdown",
   "metadata": {},
   "source": [
    "# Station timeseries"
   ]
  },
  {
   "cell_type": "markdown",
   "metadata": {},
   "source": [
    "Import R file."
   ]
  },
  {
   "cell_type": "code",
   "execution_count": 1,
   "metadata": {},
   "outputs": [
    {
     "name": "stderr",
     "output_type": "stream",
     "text": [
      "\n",
      "Attaching package: 'lubridate'\n",
      "\n",
      "The following objects are masked from 'package:data.table':\n",
      "\n",
      "    hour, isoweek, mday, minute, month, quarter, second, wday, week,\n",
      "    yday, year\n",
      "\n",
      "The following object is masked from 'package:base':\n",
      "\n",
      "    date\n",
      "\n"
     ]
    }
   ],
   "source": [
    "source('R_query_api.R')"
   ]
  },
  {
   "cell_type": "markdown",
   "metadata": {},
   "source": [
    "Input your username and password from your meteomatics account."
   ]
  },
  {
   "cell_type": "code",
   "execution_count": 2,
   "metadata": {},
   "outputs": [],
   "source": [
    "username <- \"r-community\"\n",
    "password <- \"Utotugode673\""
   ]
  },
  {
   "cell_type": "markdown",
   "metadata": {},
   "source": [
    "Enter startdate, enddate, interval and parameters. Example:"
   ]
  },
  {
   "cell_type": "code",
   "execution_count": 3,
   "metadata": {},
   "outputs": [],
   "source": [
    "startdate = ISOdatetime(year = as.integer(strftime(today(),'%Y')), \n",
    "                        month = as.integer(strftime(today(),'%m')), \n",
    "                        day = as.integer(strftime(today(),'%d'))-1, \n",
    "                        hour = 00, min = 00, sec = 00, tz = \"UTC\")\n",
    "enddate = ISOdatetime(year = as.integer(strftime(today(),'%Y')), \n",
    "                      month = as.integer(strftime(today(),'%m')), \n",
    "                      day = as.integer(strftime(today(),'%d')), \n",
    "                      hour = 00, min = 00, sec = 00, tz = \"UTC\")\n",
    "\n",
    "interval <- \"PT4H\"\n",
    "parameters = \"t_2m:C,relative_humidity_2m:p\" #different parameters"
   ]
  },
  {
   "cell_type": "markdown",
   "metadata": {},
   "source": [
    "Enter the station(s). The ID of a station can be found through the function \"Find Stations\"."
   ]
  },
  {
   "cell_type": "code",
   "execution_count": 4,
   "metadata": {},
   "outputs": [],
   "source": [
    "station <- \"wmo_066810\""
   ]
  },
  {
   "cell_type": "code",
   "execution_count": 5,
   "metadata": {},
   "outputs": [
    {
     "data": {
      "text/html": [
       "<table>\n",
       "<thead><tr><th scope=col>Request.with.model.mix.obs.is.not.granted.with.this.subscription.type..e.g..trial...Access.for.this.account.type.is.limited.to.model..mix...Please.contact.sales.meteomatics.com.for.an.extended.trial.or.an.upgrade.of.your.account.</th></tr></thead>\n",
       "<tbody>\n",
       "</tbody>\n",
       "</table>\n"
      ],
      "text/latex": [
       "\\begin{tabular}{r|l}\n",
       " Request.with.model.mix.obs.is.not.granted.with.this.subscription.type..e.g..trial...Access.for.this.account.type.is.limited.to.model..mix...Please.contact.sales.meteomatics.com.for.an.extended.trial.or.an.upgrade.of.your.account.\\\\\n",
       "\\hline\n",
       "\\end{tabular}\n"
      ],
      "text/markdown": [
       "\n",
       "| Request.with.model.mix.obs.is.not.granted.with.this.subscription.type..e.g..trial...Access.for.this.account.type.is.limited.to.model..mix...Please.contact.sales.meteomatics.com.for.an.extended.trial.or.an.upgrade.of.your.account. |\n",
       "|---|\n",
       "\n"
      ],
      "text/plain": [
       "     Request.with.model.mix.obs.is.not.granted.with.this.subscription.type..e.g..trial...Access.for.this.account.type.is.limited.to.model..mix...Please.contact.sales.meteomatics.com.for.an.extended.trial.or.an.upgrade.of.your.account."
      ]
     },
     "metadata": {},
     "output_type": "display_data"
    }
   ],
   "source": [
    "timeseries_station_id(startdate,enddate,interval,parameters,station)\n"
   ]
  },
  {
   "cell_type": "markdown",
   "metadata": {},
   "source": [
    "For detailed information on the input parameters, see https://www.meteomatics.com/en/api/request/."
   ]
  }
 ],
 "metadata": {
  "kernelspec": {
   "display_name": "R",
   "language": "R",
   "name": "ir"
  },
  "language_info": {
   "codemirror_mode": "r",
   "file_extension": ".r",
   "mimetype": "text/x-r-source",
   "name": "R",
   "pygments_lexer": "r",
   "version": "3.6.0"
  }
 },
 "nbformat": 4,
 "nbformat_minor": 2
}
