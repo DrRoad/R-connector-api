{
 "cells": [
  {
   "cell_type": "markdown",
   "metadata": {},
   "source": [
    "# Grads plot"
   ]
  },
  {
   "cell_type": "markdown",
   "metadata": {},
   "source": [
    "Import R file."
   ]
  },
  {
   "cell_type": "code",
   "execution_count": 1,
   "metadata": {},
   "outputs": [
    {
     "name": "stderr",
     "output_type": "stream",
     "text": [
      "\n",
      "Attaching package: 'lubridate'\n",
      "\n",
      "The following objects are masked from 'package:data.table':\n",
      "\n",
      "    hour, isoweek, mday, minute, month, quarter, second, wday, week,\n",
      "    yday, year\n",
      "\n",
      "The following object is masked from 'package:base':\n",
      "\n",
      "    date\n",
      "\n"
     ]
    }
   ],
   "source": [
    "source('../R_query_api.R')"
   ]
  },
  {
   "cell_type": "markdown",
   "metadata": {},
   "source": [
    "Input your username and password from your meteomatics account."
   ]
  },
  {
   "cell_type": "code",
   "execution_count": 2,
   "metadata": {},
   "outputs": [],
   "source": [
    "username <- \"r-community\"\n",
    "password <- \"Utotugode673\""
   ]
  },
  {
   "cell_type": "markdown",
   "metadata": {},
   "source": [
    "Enter parameters, coordinates and interval. Example:"
   ]
  },
  {
   "cell_type": "code",
   "execution_count": 3,
   "metadata": {},
   "outputs": [],
   "source": [
    "parameters <- \"t_500hPa:C,gh_500hPa:m\"\n",
    "coordinate <- \"70,-15_35,30:0.1,0.1\""
   ]
  },
  {
   "cell_type": "markdown",
   "metadata": {},
   "source": [
    "There is the option to set the directory as desired."
   ]
  },
  {
   "cell_type": "code",
   "execution_count": 4,
   "metadata": {},
   "outputs": [
    {
     "data": {
      "text/html": [
       "<table>\n",
       "<thead><tr><th scope=col>Request.with.model.ecmwf.ifs.is.not.granted.with.this.subscription.type..e.g..trial...Access.for.this.account.type.is.limited.to.model..mix...Please.contact.sales.meteomatics.com.for.an.extended.trial.or.an.upgrade.of.your.account.</th></tr></thead>\n",
       "<tbody>\n",
       "</tbody>\n",
       "</table>\n"
      ],
      "text/latex": [
       "\\begin{tabular}{r|l}\n",
       " Request.with.model.ecmwf.ifs.is.not.granted.with.this.subscription.type..e.g..trial...Access.for.this.account.type.is.limited.to.model..mix...Please.contact.sales.meteomatics.com.for.an.extended.trial.or.an.upgrade.of.your.account.\\\\\n",
       "\\hline\n",
       "\\end{tabular}\n"
      ],
      "text/markdown": [
       "\n",
       "| Request.with.model.ecmwf.ifs.is.not.granted.with.this.subscription.type..e.g..trial...Access.for.this.account.type.is.limited.to.model..mix...Please.contact.sales.meteomatics.com.for.an.extended.trial.or.an.upgrade.of.your.account. |\n",
       "|---|\n",
       "\n"
      ],
      "text/plain": [
       "     Request.with.model.ecmwf.ifs.is.not.granted.with.this.subscription.type..e.g..trial...Access.for.this.account.type.is.limited.to.model..mix...Please.contact.sales.meteomatics.com.for.an.extended.trial.or.an.upgrade.of.your.account."
      ]
     },
     "metadata": {},
     "output_type": "display_data"
    }
   ],
   "source": [
    "save_grads_plot(startdate, parameters, coordinate)"
   ]
  },
  {
   "cell_type": "markdown",
   "metadata": {},
   "source": [
    "For detailed information on the input parameters, see https://www.meteomatics.com/en/api/request/."
   ]
  }
 ],
 "metadata": {
  "kernelspec": {
   "display_name": "R",
   "language": "R",
   "name": "ir"
  },
  "language_info": {
   "codemirror_mode": "r",
   "file_extension": ".r",
   "mimetype": "text/x-r-source",
   "name": "R",
   "pygments_lexer": "r",
   "version": "3.6.0"
  }
 },
 "nbformat": 4,
 "nbformat_minor": 2
}
