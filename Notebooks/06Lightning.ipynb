{
 "cells": [
  {
   "cell_type": "markdown",
   "metadata": {},
   "source": [
    "# Lightning strikes"
   ]
  },
  {
   "cell_type": "markdown",
   "metadata": {},
   "source": [
    "The function **lightning_strikes** returns a list of lightning strikes within a **bounding box** for a **time range**."
   ]
  },
  {
   "cell_type": "markdown",
   "metadata": {},
   "source": [
    "Import R file."
   ]
  },
  {
   "cell_type": "code",
   "execution_count": 1,
   "metadata": {},
   "outputs": [
    {
     "name": "stderr",
     "output_type": "stream",
     "text": [
      "\n",
      "Attaching package: 'lubridate'\n",
      "\n",
      "The following objects are masked from 'package:data.table':\n",
      "\n",
      "    hour, isoweek, mday, minute, month, quarter, second, wday, week,\n",
      "    yday, year\n",
      "\n",
      "The following object is masked from 'package:base':\n",
      "\n",
      "    date\n",
      "\n"
     ]
    }
   ],
   "source": [
    "source('../R_query_api.R')"
   ]
  },
  {
   "cell_type": "markdown",
   "metadata": {},
   "source": [
    "Input your username and password from your meteomatics account."
   ]
  },
  {
   "cell_type": "code",
   "execution_count": 2,
   "metadata": {},
   "outputs": [],
   "source": [
    "username <- \"r-community\"\n",
    "password <- \"Utotugode673\""
   ]
  },
  {
   "cell_type": "markdown",
   "metadata": {},
   "source": [
    "The **time range** is defined by a startpoint and a duration"
   ]
  },
  {
   "cell_type": "code",
   "execution_count": 3,
   "metadata": {},
   "outputs": [],
   "source": [
    "time_range <- \"2019-07-07T12:00:00ZPT2S\""
   ]
  },
  {
   "cell_type": "markdown",
   "metadata": {},
   "source": [
    "The **bownding box** is described as follows: `<lat_max>,<lon_min>_<lat_min>,<lon_max>`"
   ]
  },
  {
   "cell_type": "code",
   "execution_count": 4,
   "metadata": {},
   "outputs": [],
   "source": [
    "bounding_box <- \"50,10_40,20\""
   ]
  },
  {
   "cell_type": "code",
   "execution_count": 5,
   "metadata": {},
   "outputs": [],
   "source": [
    "lightnings <- lightning_strikes(time_range, bounding_box)"
   ]
  },
  {
   "cell_type": "code",
   "execution_count": 6,
   "metadata": {},
   "outputs": [
    {
     "data": {
      "text/html": [
       "<table>\n",
       "<thead><tr><th scope=col>Request.with.valid.date.2019.07.07.12.00.00.requires.historic.data.access.before.2019.08.20.00.00.00..which.is.not.granted.with.this.subscription.type..e.g..trial...The.valid.time.period.for.this.account.type.starts.at.2019.08.20.00.00.00..Please.contact.sales.meteomatics.com.and.we.are.happy.to.provide.an.extended.trial.or.an.upgrade.of.your.account.</th></tr></thead>\n",
       "<tbody>\n",
       "</tbody>\n",
       "</table>\n"
      ],
      "text/latex": [
       "\\begin{tabular}{r|l}\n",
       " Request.with.valid.date.2019.07.07.12.00.00.requires.historic.data.access.before.2019.08.20.00.00.00..which.is.not.granted.with.this.subscription.type..e.g..trial...The.valid.time.period.for.this.account.type.starts.at.2019.08.20.00.00.00..Please.contact.sales.meteomatics.com.and.we.are.happy.to.provide.an.extended.trial.or.an.upgrade.of.your.account.\\\\\n",
       "\\hline\n",
       "\\end{tabular}\n"
      ],
      "text/markdown": [
       "\n",
       "| Request.with.valid.date.2019.07.07.12.00.00.requires.historic.data.access.before.2019.08.20.00.00.00..which.is.not.granted.with.this.subscription.type..e.g..trial...The.valid.time.period.for.this.account.type.starts.at.2019.08.20.00.00.00..Please.contact.sales.meteomatics.com.and.we.are.happy.to.provide.an.extended.trial.or.an.upgrade.of.your.account. |\n",
       "|---|\n",
       "\n"
      ],
      "text/plain": [
       "     Request.with.valid.date.2019.07.07.12.00.00.requires.historic.data.access.before.2019.08.20.00.00.00..which.is.not.granted.with.this.subscription.type..e.g..trial...The.valid.time.period.for.this.account.type.starts.at.2019.08.20.00.00.00..Please.contact.sales.meteomatics.com.and.we.are.happy.to.provide.an.extended.trial.or.an.upgrade.of.your.account."
      ]
     },
     "metadata": {},
     "output_type": "display_data"
    }
   ],
   "source": [
    "head(lightnings)"
   ]
  },
  {
   "cell_type": "markdown",
   "metadata": {},
   "source": [
    "For detailed information on the input parameters, see https://www.meteomatics.com/en/api/request/."
   ]
  }
 ],
 "metadata": {
  "kernelspec": {
   "display_name": "R",
   "language": "R",
   "name": "ir"
  },
  "language_info": {
   "codemirror_mode": "r",
   "file_extension": ".r",
   "mimetype": "text/x-r-source",
   "name": "R",
   "pygments_lexer": "r",
   "version": "3.6.0"
  }
 },
 "nbformat": 4,
 "nbformat_minor": 2
}
