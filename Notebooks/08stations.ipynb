{
 "cells": [
  {
   "cell_type": "markdown",
   "metadata": {},
   "source": [
    "# Weather stations"
   ]
  },
  {
   "cell_type": "markdown",
   "metadata": {},
   "source": [
    "Import R file."
   ]
  },
  {
   "cell_type": "code",
   "execution_count": 1,
   "metadata": {},
   "outputs": [
    {
     "name": "stderr",
     "output_type": "stream",
     "text": [
      "\n",
      "Attaching package: 'lubridate'\n",
      "\n",
      "The following objects are masked from 'package:data.table':\n",
      "\n",
      "    hour, isoweek, mday, minute, month, quarter, second, wday, week,\n",
      "    yday, year\n",
      "\n",
      "The following object is masked from 'package:base':\n",
      "\n",
      "    date\n",
      "\n"
     ]
    }
   ],
   "source": [
    "source('../R_query_api.R')"
   ]
  },
  {
   "cell_type": "markdown",
   "metadata": {},
   "source": [
    "Input your username and password from your meteomatics account."
   ]
  },
  {
   "cell_type": "code",
   "execution_count": 2,
   "metadata": {},
   "outputs": [],
   "source": [
    "username <- \"r-community\"\n",
    "password <- \"Utotugode673\""
   ]
  },
  {
   "cell_type": "markdown",
   "metadata": {},
   "source": [
    "Enter conditions (all avialable conditions are listet here: https://www.meteomatics.com/en/api/request/#find_station)"
   ]
  },
  {
   "cell_type": "code",
   "execution_count": 3,
   "metadata": {},
   "outputs": [],
   "source": [
    "location <- \"location=47.3,9.3\"\n",
    "parameters <- \"elevation=2500\" "
   ]
  },
  {
   "cell_type": "code",
   "execution_count": 4,
   "metadata": {},
   "outputs": [],
   "source": [
    "stations <- find_station(location, parameters)"
   ]
  },
  {
   "cell_type": "code",
   "execution_count": 5,
   "metadata": {},
   "outputs": [
    {
     "data": {
      "text/html": [
       "<table>\n",
       "<thead><tr><th scope=col>Station Category</th><th scope=col>Station Type</th><th scope=col>ID Hash</th><th scope=col>WMO ID</th><th scope=col>Alternative IDs</th><th scope=col>Name</th><th scope=col>Location Lat,Lon</th><th scope=col>Elevation</th><th scope=col>Start Date</th><th scope=col>End Date</th><th scope=col>Horizontal Distance</th><th scope=col>Vertical Distance</th><th scope=col>Effective Distance</th></tr></thead>\n",
       "<tbody>\n",
       "\t<tr><td>SYNOP               </td><td>SYNO                </td><td>3340185951          </td><td>                    </td><td>SAE                 </td><td>Säntis              </td><td>47.2494 9.34363     </td><td>2502m               </td><td>2017-02-28T23:00:00Z</td><td>2019-08-21T06:20:00Z</td><td>6521.71             </td><td>2                   </td><td>6669.86             </td></tr>\n",
       "\t<tr><td>SYNOP               </td><td>SYNA                </td><td>2029095604          </td><td>066800              </td><td>                    </td><td>Säntis              </td><td>47.25 9.35          </td><td>2500m               </td><td>2017-01-01T00:00:00Z</td><td>2019-08-21T06:00:00Z</td><td>6726.02             </td><td>0                   </td><td>6726.02             </td></tr>\n",
       "\t<tr><td>SYNOP               </td><td>SYNO                </td><td>1637406244          </td><td>066800              </td><td>                    </td><td>Säntis              </td><td>47.25 9.35          </td><td>2500m               </td><td>2000-01-01T00:00:00Z</td><td>2017-11-30T23:00:00Z</td><td>6726.02             </td><td>0                   </td><td>6726.02             </td></tr>\n",
       "\t<tr><td>SYNOP               </td><td>SYNO                </td><td>3821443993          </td><td>                    </td><td>TAM_2               </td><td>                    </td><td>46.9684 9.39093     </td><td>2468m               </td><td>2017-01-01T00:00:00Z</td><td>2019-08-21T03:00:00Z</td><td>37553.6             </td><td>-32                 </td><td>39924               </td></tr>\n",
       "\t<tr><td>SYNOP               </td><td>SYNA                </td><td>773218039           </td><td>066860              </td><td>                    </td><td>                    </td><td>46.88 9.18          </td><td>2566m               </td><td>2018-05-23T10:00:00Z</td><td>2018-05-25T08:00:00Z</td><td>47629.5             </td><td>66                  </td><td>52518.4             </td></tr>\n",
       "\t<tr><td>SYNOP               </td><td>SYNO                </td><td>2165067606          </td><td>066860              </td><td>                    </td><td>Vorab-Talstation    </td><td>46.88 9.18          </td><td>2566m               </td><td>2017-01-01T00:00:00Z</td><td>2018-05-23T09:00:00Z</td><td>47629.5             </td><td>66                  </td><td>52518.4             </td></tr>\n",
       "</tbody>\n",
       "</table>\n"
      ],
      "text/latex": [
       "\\begin{tabular}{r|lllllllllllll}\n",
       " Station Category & Station Type & ID Hash & WMO ID & Alternative IDs & Name & Location Lat,Lon & Elevation & Start Date & End Date & Horizontal Distance & Vertical Distance & Effective Distance\\\\\n",
       "\\hline\n",
       "\t SYNOP                & SYNO                 & 3340185951           &                      & SAE                  & Säntis               & 47.2494 9.34363      & 2502m                & 2017-02-28T23:00:00Z & 2019-08-21T06:20:00Z & 6521.71              & 2                    & 6669.86             \\\\\n",
       "\t SYNOP                & SYNA                 & 2029095604           & 066800               &                      & Säntis               & 47.25 9.35           & 2500m                & 2017-01-01T00:00:00Z & 2019-08-21T06:00:00Z & 6726.02              & 0                    & 6726.02             \\\\\n",
       "\t SYNOP                & SYNO                 & 1637406244           & 066800               &                      & Säntis               & 47.25 9.35           & 2500m                & 2000-01-01T00:00:00Z & 2017-11-30T23:00:00Z & 6726.02              & 0                    & 6726.02             \\\\\n",
       "\t SYNOP                & SYNO                 & 3821443993           &                      & TAM\\_2              &                      & 46.9684 9.39093      & 2468m                & 2017-01-01T00:00:00Z & 2019-08-21T03:00:00Z & 37553.6              & -32                  & 39924               \\\\\n",
       "\t SYNOP                & SYNA                 & 773218039            & 066860               &                      &                      & 46.88 9.18           & 2566m                & 2018-05-23T10:00:00Z & 2018-05-25T08:00:00Z & 47629.5              & 66                   & 52518.4             \\\\\n",
       "\t SYNOP                & SYNO                 & 2165067606           & 066860               &                      & Vorab-Talstation     & 46.88 9.18           & 2566m                & 2017-01-01T00:00:00Z & 2018-05-23T09:00:00Z & 47629.5              & 66                   & 52518.4             \\\\\n",
       "\\end{tabular}\n"
      ],
      "text/markdown": [
       "\n",
       "| Station Category | Station Type | ID Hash | WMO ID | Alternative IDs | Name | Location Lat,Lon | Elevation | Start Date | End Date | Horizontal Distance | Vertical Distance | Effective Distance |\n",
       "|---|---|---|---|---|---|---|---|---|---|---|---|---|\n",
       "| SYNOP                | SYNO                 | 3340185951           |                      | SAE                  | Säntis               | 47.2494 9.34363      | 2502m                | 2017-02-28T23:00:00Z | 2019-08-21T06:20:00Z | 6521.71              | 2                    | 6669.86              |\n",
       "| SYNOP                | SYNA                 | 2029095604           | 066800               |                      | Säntis               | 47.25 9.35           | 2500m                | 2017-01-01T00:00:00Z | 2019-08-21T06:00:00Z | 6726.02              | 0                    | 6726.02              |\n",
       "| SYNOP                | SYNO                 | 1637406244           | 066800               |                      | Säntis               | 47.25 9.35           | 2500m                | 2000-01-01T00:00:00Z | 2017-11-30T23:00:00Z | 6726.02              | 0                    | 6726.02              |\n",
       "| SYNOP                | SYNO                 | 3821443993           |                      | TAM_2                |                      | 46.9684 9.39093      | 2468m                | 2017-01-01T00:00:00Z | 2019-08-21T03:00:00Z | 37553.6              | -32                  | 39924                |\n",
       "| SYNOP                | SYNA                 | 773218039            | 066860               |                      |                      | 46.88 9.18           | 2566m                | 2018-05-23T10:00:00Z | 2018-05-25T08:00:00Z | 47629.5              | 66                   | 52518.4              |\n",
       "| SYNOP                | SYNO                 | 2165067606           | 066860               |                      | Vorab-Talstation     | 46.88 9.18           | 2566m                | 2017-01-01T00:00:00Z | 2018-05-23T09:00:00Z | 47629.5              | 66                   | 52518.4              |\n",
       "\n"
      ],
      "text/plain": [
       "  Station Category Station Type ID Hash    WMO ID Alternative IDs\n",
       "1 SYNOP            SYNO         3340185951        SAE            \n",
       "2 SYNOP            SYNA         2029095604 066800                \n",
       "3 SYNOP            SYNO         1637406244 066800                \n",
       "4 SYNOP            SYNO         3821443993        TAM_2          \n",
       "5 SYNOP            SYNA         773218039  066860                \n",
       "6 SYNOP            SYNO         2165067606 066860                \n",
       "  Name             Location Lat,Lon Elevation Start Date          \n",
       "1 Säntis           47.2494 9.34363  2502m     2017-02-28T23:00:00Z\n",
       "2 Säntis           47.25 9.35       2500m     2017-01-01T00:00:00Z\n",
       "3 Säntis           47.25 9.35       2500m     2000-01-01T00:00:00Z\n",
       "4                  46.9684 9.39093  2468m     2017-01-01T00:00:00Z\n",
       "5                  46.88 9.18       2566m     2018-05-23T10:00:00Z\n",
       "6 Vorab-Talstation 46.88 9.18       2566m     2017-01-01T00:00:00Z\n",
       "  End Date             Horizontal Distance Vertical Distance Effective Distance\n",
       "1 2019-08-21T06:20:00Z 6521.71             2                 6669.86           \n",
       "2 2019-08-21T06:00:00Z 6726.02             0                 6726.02           \n",
       "3 2017-11-30T23:00:00Z 6726.02             0                 6726.02           \n",
       "4 2019-08-21T03:00:00Z 37553.6             -32               39924             \n",
       "5 2018-05-25T08:00:00Z 47629.5             66                52518.4           \n",
       "6 2018-05-23T09:00:00Z 47629.5             66                52518.4           "
      ]
     },
     "metadata": {},
     "output_type": "display_data"
    }
   ],
   "source": [
    "head(stations)"
   ]
  },
  {
   "cell_type": "markdown",
   "metadata": {},
   "source": [
    "For detailed information on the input parameters, see https://www.meteomatics.com/en/api/request/."
   ]
  }
 ],
 "metadata": {
  "kernelspec": {
   "display_name": "R",
   "language": "R",
   "name": "ir"
  },
  "language_info": {
   "codemirror_mode": "r",
   "file_extension": ".r",
   "mimetype": "text/x-r-source",
   "name": "R",
   "pygments_lexer": "r",
   "version": "3.6.0"
  }
 },
 "nbformat": 4,
 "nbformat_minor": 2
}
